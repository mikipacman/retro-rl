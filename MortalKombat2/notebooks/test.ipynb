{
 "cells": [
  {
   "cell_type": "code",
   "execution_count": 4,
   "metadata": {},
   "outputs": [],
   "source": [
    "from stable_baselines3 import PPO\n",
    "import os\n",
    "import tempfile\n",
    "import time\n",
    "import seaborn as sns\n",
    "import numpy as np\n",
    "import re\n",
    "\n",
    "from helpers.saving_utils import get_exp_params, GoogleDriveCheckpointer\n",
    "\n",
    "# Needed for loading pickle\n",
    "from MortalKombat2.wrappers import FrameskipWrapper, MaxEpLenWrapper\n",
    "from stable_baselines3.common.atari_wrappers import WarpFrame\n",
    "from stable_baselines3.common.monitor import Monitor\n",
    "import MortalKombat2\n",
    "\n",
    "sns.set_style(\"dark\", {'axes.grid' : True})\n",
    "\n",
    "project_name = \"miki.pacman/MK2\"\n",
    "google_drive_checkpoints_path = \"MK2/saves\"\n",
    "exp_id = \"MK-16\"\n",
    "\n",
    "params = get_exp_params(exp_id, project_name)"
   ]
  },
  {
   "cell_type": "code",
   "execution_count": 8,
   "metadata": {},
   "outputs": [],
   "source": [
    "def get_learning_curve_for_exp(exp_id, env, num_eval_per_checkpoint):\n",
    "    with tempfile.TemporaryDirectory(dir=\"/tmp\") as temp:\n",
    "        checkpointer = GoogleDriveCheckpointer(project_experiments_path=google_drive_checkpoints_path, exp_id=exp_id)\n",
    "        checkpoints_list = checkpointer.get_list_of_checkpoints()\n",
    "        checkpointer.download_checkpoints(checkpoints_list, temp)\n",
    "\n",
    "        x, y = [], []\n",
    "        for root, _, files in os.walk(temp):\n",
    "            d = {int(re.findall(r\"\\d+\", file)[-1]): file for file in files}\n",
    "            for xdd in sorted(d.keys())[::-1]:\n",
    "                r = []\n",
    "                for _ in range(num_eval_per_checkpoint):\n",
    "                    file = d[xdd]\n",
    "                    model = PPO.load(os.path.join(root, file))\n",
    "                    done = False\n",
    "                    obs = env.reset()\n",
    "                    while not done:\n",
    "                        obs, _, done, info = env.step(model.predict(obs)[0])\n",
    "                    r.append(info[\"episode\"][\"r\"])\n",
    "\n",
    "                y.append(np.mean(r))\n",
    "                x.append(xdd)\n",
    "            \n",
    "    return x, y"
   ]
  },
  {
   "cell_type": "code",
   "execution_count": 9,
   "metadata": {},
   "outputs": [],
   "source": [
    "env = params[\"env_function\"](params, train=True)\n",
    "x, y = get_learning_curve_for_exp(exp_id, env, num_eval_per_checkpoint=16)\n",
    "env.close()"
   ]
  },
  {
   "cell_type": "code",
   "execution_count": 10,
   "metadata": {},
   "outputs": [
    {
     "data": {
      "text/plain": [
       "<AxesSubplot:>"
      ]
     },
     "execution_count": 10,
     "metadata": {},
     "output_type": "execute_result"
    },
    {
     "data": {
      "image/png": "[encoded data removed]",
      "text/plain": [
       "<Figure size 432x288 with 1 Axes>"
      ]
     },
     "metadata": {},
     "output_type": "display_data"
    }
   ],
   "source": [
    "sns.lineplot(x=x, y=y)"
   ]
  },
  {
   "cell_type": "code",
   "execution_count": null,
   "metadata": {},
   "outputs": [],
   "source": []
  }
 ],
 "metadata": {
  "kernelspec": {
   "display_name": "retro-rl",
   "language": "python",
   "name": "retro-rl"
  },
  "language_info": {
   "codemirror_mode": {
    "name": "ipython",
    "version": 3
   },
   "file_extension": ".py",
   "mimetype": "text/x-python",
   "name": "python",
   "nbconvert_exporter": "python",
   "pygments_lexer": "ipython3",
   "version": "3.8.5"
  }
 },
 "nbformat": 4,
 "nbformat_minor": 4
}
