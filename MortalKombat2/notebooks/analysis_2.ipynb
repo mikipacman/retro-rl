{
 "cells": [
  {
   "cell_type": "code",
   "execution_count": 3,
   "metadata": {},
   "outputs": [],
   "source": [
    "from stable_baselines3 import PPO\n",
    "import os\n",
    "os.chdir('/home/ml/Projects/retro-rl')\n",
    "import sys\n",
    "sys.path.append(\"../../\")\n",
    "sys.path.append(\"../\")\n",
    "import tempfile\n",
    "import time\n",
    "import seaborn as sns\n",
    "import numpy as np\n",
    "import re\n",
    "import pandas as pd\n",
    "\n",
    "from helpers.saving_utils import get_exp_params, GoogleDriveCheckpointer\n",
    "\n",
    "# Needed for loading pickle\n",
    "from MortalKombat2.wrappers import FrameskipWrapper, MaxEpLenWrapper\n",
    "from stable_baselines3.common.atari_wrappers import WarpFrame\n",
    "from stable_baselines3.common.monitor import Monitor\n",
    "import MortalKombat2\n",
    "\n",
    "sns.set_style(\"dark\", {'axes.grid' : True})\n",
    "\n",
    "project_name = \"miki.pacman/MK2\"\n",
    "google_drive_checkpoints_path = \"MK2/saves\"\n",
    "exp_ids = [\"MK-20\"]\n",
    "\n",
    "params = get_exp_params(exp_ids[0], project_name)"
   ]
  },
  {
   "cell_type": "code",
   "execution_count": 4,
   "metadata": {},
   "outputs": [],
   "source": [
    "def get_learning_curve_for_exp(exp_id, env, num_eval_per_checkpoint):\n",
    "    with tempfile.TemporaryDirectory(dir=\"/tmp\") as temp:\n",
    "        checkpointer = GoogleDriveCheckpointer(project_experiments_path=google_drive_checkpoints_path, exp_id=exp_id)\n",
    "        checkpoints_list = checkpointer.get_list_of_checkpoints()\n",
    "        checkpointer.download_checkpoints(checkpoints_list, temp)\n",
    "\n",
    "        x, y = [], []\n",
    "        for root, _, files in os.walk(temp):\n",
    "            d = {int(re.findall(r\"\\d+\", file)[-1]): file for file in files}\n",
    "            for xdd in sorted(d.keys())[::-1]:\n",
    "                r = []\n",
    "                for _ in range(num_eval_per_checkpoint):\n",
    "                    file = d[xdd]\n",
    "                    model = PPO.load(os.path.join(root, file))\n",
    "                    done = False\n",
    "                    obs = env.reset()\n",
    "                    while not done:\n",
    "                        obs, _, done, info = env.step(model.predict(obs)[0])\n",
    "                    r.append(info[\"episode\"][\"r\"])\n",
    "\n",
    "                y.append(np.mean(r))\n",
    "                x.append(xdd)\n",
    "            \n",
    "    return x, y"
   ]
  },
  {
   "cell_type": "code",
   "execution_count": null,
   "metadata": {},
   "outputs": [],
   "source": [
    "df = pd.DataFrame()\n",
    "\n",
    "for exp_id in exp_ids:\n",
    "    for diff in list(params[\"difficulties\"]):\n",
    "        params.update({\"difficulties\": [diff]})\n",
    "        env = params[\"env_function\"](params, train=True)\n",
    "        x, y = get_learning_curve_for_exp(exp_id, env, num_eval_per_checkpoint=16)\n",
    "        df = df.append(pd.DataFrame({\n",
    "            \"num_timesteps\": x, \n",
    "            \"rew\": y, \n",
    "            \"difficulty\": [diff] * len(x),\n",
    "            \"exp_id\": [exp_id] * len(x),\n",
    "        }), ignore_index=True)\n",
    "        env.close()"
   ]
  },
  {
   "cell_type": "code",
   "execution_count": 19,
   "metadata": {},
   "outputs": [
    {
     "data": {
      "text/plain": [
       "<AxesSubplot:xlabel='num_timesteps', ylabel='rew'>"
      ]
     },
     "execution_count": 19,
     "metadata": {},
     "output_type": "execute_result"
    },
    {
     "data": {
      "image/png": "[encoded data removed]",
      "text/plain": [
       "<Figure size 432x288 with 1 Axes>"
      ]
     },
     "metadata": {},
     "output_type": "display_data"
    }
   ],
   "source": [
    "sns.lineplot(data=df[df.exp_id == exp_ids[0]], x=\"num_timesteps\", y=\"rew\", hue=\"state_versions\", legend=False)"
   ]
  }
 ],
 "metadata": {
  "kernelspec": {
   "display_name": "retro-rl",
   "language": "python",
   "name": "retro-rl"
  },
  "language_info": {
   "codemirror_mode": {
    "name": "ipython",
    "version": 3
   },
   "file_extension": ".py",
   "mimetype": "text/x-python",
   "name": "python",
   "nbconvert_exporter": "python",
   "pygments_lexer": "ipython3",
   "version": "3.8.5"
  },
  "neptune": {
   "notebookId": "1db2eba9-75d7-4388-b836-b0244731a49d"
  }
 },
 "nbformat": 4,
 "nbformat_minor": 4
}
